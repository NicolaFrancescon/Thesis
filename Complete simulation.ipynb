{
 "cells": [
  {
   "cell_type": "code",
   "execution_count": 1,
   "id": "20400d54-6367-4dd0-8125-d8b502df123c",
   "metadata": {},
   "outputs": [],
   "source": [
    "from Feature_extraction import feat_extract\n",
    "from Dimensionality_reduction import reduce_dimensionality\n",
    "from river.preprocessing import MinMaxScaler\n",
    "from Running_models import run_model"
   ]
  },
  {
   "cell_type": "code",
   "execution_count": null,
   "id": "53e5c085-1cc7-485b-af5a-fb15bc5095cb",
   "metadata": {
    "tags": []
   },
   "outputs": [],
   "source": [
    "feat_extract(folder_name= f'features/initial_features/mobilenet_small', extractor='mobilenet_small')"
   ]
  },
  {
   "cell_type": "code",
   "execution_count": null,
   "id": "83031911-6db6-49c6-a4bd-58be52a2481d",
   "metadata": {
    "tags": []
   },
   "outputs": [],
   "source": [
    "feat_extract(folder_name= f'features/initial_features/resnet18', extractor='resnet18')"
   ]
  },
  {
   "cell_type": "code",
   "execution_count": 4,
   "id": "694790dc-4814-4315-b608-422b1579899d",
   "metadata": {},
   "outputs": [],
   "source": [
    "components_list = [30*i for i in range(1,18)]"
   ]
  },
  {
   "cell_type": "code",
   "execution_count": null,
   "id": "18dfc0c3-4692-4ec2-bb38-c33c061b7bf9",
   "metadata": {
    "tags": []
   },
   "outputs": [],
   "source": [
    "for num_comp in components_list:\n",
    "    reduce_dimensionality(feature_extractor = 'resnet18', dim_reduction = 'UMAP_batch', num_comp = num_comp)\n",
    "    run_model(feature_extractor = 'resnet18', dim_reduction = 'UMAP_batch', components=num_comp, classification_method ='Gaussian NB', scaler = MinMaxScaler())\n",
    "    run_model(feature_extractor = 'resnet18', dim_reduction = 'UMAP_batch', components=num_comp, classification_method ='SLDA with Kalman', scaler = MinMaxScaler())\n",
    "    run_model(feature_extractor = 'resnet18', dim_reduction = 'UMAP_batch', components=num_comp, classification_method ='SLDA', scaler = MinMaxScaler())\n",
    "    run_model(feature_extractor = 'resnet18', dim_reduction = 'UMAP_batch', components=num_comp, classification_method ='Softmax regression', scaler = MinMaxScaler())"
   ]
  },
  {
   "cell_type": "code",
   "execution_count": null,
   "id": "5fe53db0-9499-47f2-a21b-f75bd146529e",
   "metadata": {
    "tags": []
   },
   "outputs": [],
   "source": [
    "for num_comp in components_list:\n",
    "    reduce_dimensionality(feature_extractor = 'mobilenet_small', dim_reduction = 'UMAP_batch', num_comp = num_comp)\n",
    "    run_model(feature_extractor = 'mobilenet_small', dim_reduction = 'UMAP_batch', components=num_comp, classification_method ='Gaussian NB', scaler = MinMaxScaler())\n",
    "    run_model(feature_extractor = 'mobilenet_small', dim_reduction = 'UMAP_batch', components=num_comp, classification_method ='SLDA with Kalman', scaler = MinMaxScaler())\n",
    "    run_model(feature_extractor = 'mobilenet_small', dim_reduction = 'UMAP_batch', components=num_comp, classification_method ='SLDA', scaler = MinMaxScaler())\n",
    "    run_model(feature_extractor = 'mobilenet_small', dim_reduction = 'UMAP_batch', components=num_comp, classification_method ='Softmax regression', scaler = MinMaxScaler())"
   ]
  },
  {
   "cell_type": "code",
   "execution_count": null,
   "id": "8cfd2d21-5646-494e-a644-487e2360b631",
   "metadata": {
    "tags": []
   },
   "outputs": [],
   "source": [
    "reduce_dimensionality(feature_extractor = 'mobilenet_small', dim_reduction = 'UMAP_streaming', num_comp = 30, window_size=1000)\n",
    "run_model(feature_extractor = 'mobilenet_small', dim_reduction = 'UMAP_streaming', num_comp = 30, window_size=1000, classification_method ='Gaussian NB', scaler = MinMaxScaler())\n",
    "run_model(feature_extractor = 'mobilenet_small', dim_reduction = 'UMAP_streaming', num_comp = 30, window_size=1000, classification_method ='SLDA with Kalman', scaler = MinMaxScaler())\n",
    "run_model(feature_extractor = 'mobilenet_small', dim_reduction = 'UMAP_streaming', num_comp = 30, window_size=1000, classification_method ='SLDA', scaler = MinMaxScaler())\n",
    "run_model(feature_extractor = 'mobilenet_small', dim_reduction = 'UMAP_streaming', num_comp = 30, window_size=1000, classification_method ='Softmax regression', scaler = MinMaxScaler())"
   ]
  },
  {
   "cell_type": "code",
   "execution_count": null,
   "id": "6562817f-0d4f-469d-aab5-d6ab25cae574",
   "metadata": {
    "tags": []
   },
   "outputs": [],
   "source": [
    "for num_comp in components_list:\n",
    "    reduce_dimensionality(feature_extractor = 'mobilenet_small', dim_reduction = 'RProj', num_comp = num_comp)\n",
    "    #run_model(feature_extractor = 'mobilenet_small', dim_reduction = 'RProj', components=num_comp, classification_method ='Gaussian NB', scaler = MinMaxScaler())\n",
    "    #run_model(feature_extractor = 'mobilenet_small', dim_reduction = 'RProj', components=num_comp, classification_method ='SLDA with Kalman', scaler = MinMaxScaler())\n",
    "    #run_model(feature_extractor = 'mobilenet_small', dim_reduction = 'RProj', components=num_comp, classification_method ='SLDA', scaler = MinMaxScaler())\n",
    "    #run_model(feature_extractor = 'mobilenet_small', dim_reduction = 'RProj', components=num_comp, classification_method ='Softmax regression', scaler = MinMaxScaler())"
   ]
  },
  {
   "cell_type": "code",
   "execution_count": null,
   "id": "c6b6de12-9d4b-4823-818c-1dd578b5ed8e",
   "metadata": {
    "tags": []
   },
   "outputs": [],
   "source": [
    "run_model(feature_extractor = 'mobilenet_small', dim_reduction = None, components=576, classification_method ='Gaussian NB', scaler = MinMaxScaler())\n",
    "run_model(feature_extractor = 'mobilenet_small', dim_reduction = None, components=576, classification_method ='Softmax regression', scaler = MinMaxScaler())\n",
    "run_model(feature_extractor = 'mobilenet_small', dim_reduction = None, components=576, classification_method ='SLDA', scaler = MinMaxScaler())\n",
    "run_model(feature_extractor = 'mobilenet_small', dim_reduction = None, components=576, classification_method ='SLDA with Kalman', scaler = MinMaxScaler())"
   ]
  },
  {
   "cell_type": "code",
   "execution_count": null,
   "id": "c4ad3d23-10df-4ad6-848f-397e4e6229a8",
   "metadata": {
    "tags": []
   },
   "outputs": [],
   "source": [
    "run_model(feature_extractor = 'resnet18', dim_reduction = None, components=512, classification_method ='Gaussian NB', scaler = MinMaxScaler())\n",
    "run_model(feature_extractor = 'resnet18', dim_reduction = None, components=512, classification_method ='Softmax regression', scaler = MinMaxScaler())\n",
    "run_model(feature_extractor = 'resnet18', dim_reduction = None, components=512, classification_method ='SLDA', scaler = MinMaxScaler())\n",
    "run_model(feature_extractor = 'resnet18', dim_reduction = None, components=512, classification_method ='SLDA with Kalman', scaler = MinMaxScaler())"
   ]
  },
  {
   "cell_type": "code",
   "execution_count": null,
   "id": "646607d7-7cfc-4791-9f5a-aa81e98b269c",
   "metadata": {
    "tags": []
   },
   "outputs": [],
   "source": [
    "for num_comp in components_list:\n",
    "    reduce_dimensionality(feature_extractor = 'resnet18', dim_reduction = 'RProj', num_comp = num_comp)\n",
    "    #run_model(feature_extractor = 'resnet18', dim_reduction = 'RProj', components=num_comp, classification_method ='Gaussian NB', scaler = MinMaxScaler())\n",
    "    #run_model(feature_extractor = 'resnet18', dim_reduction = 'RProj', components=num_comp, classification_method ='SLDA with Kalman', scaler = MinMaxScaler())\n",
    "    #run_model(feature_extractor = 'resnet18', dim_reduction = 'RProj', components=num_comp, classification_method ='SLDA', scaler = MinMaxScaler())\n",
    "    #run_model(feature_extractor = 'resnet18', dim_reduction = 'RProj', components=num_comp, classification_method ='Softmax regression', scaler = MinMaxScaler())"
   ]
  }
 ],
 "metadata": {
  "kernelspec": {
   "display_name": "tesi",
   "language": "python",
   "name": "python3"
  },
  "language_info": {
   "codemirror_mode": {
    "name": "ipython",
    "version": 3
   },
   "file_extension": ".py",
   "mimetype": "text/x-python",
   "name": "python",
   "nbconvert_exporter": "python",
   "pygments_lexer": "ipython3",
   "version": "3.12.2"
  }
 },
 "nbformat": 4,
 "nbformat_minor": 5
}
